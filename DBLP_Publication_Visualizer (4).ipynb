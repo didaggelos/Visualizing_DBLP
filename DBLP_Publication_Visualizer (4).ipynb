{
  "cells": [
    {
      "cell_type": "markdown",
      "metadata": {},
      "source": [
        "# DBLP Publication Visualizer\n",
        "\n",
        "This notebook fetches and visualizes publication data for up to 3 authors using the DBLP API (Method 2). It includes pagination handling and provides bar plots, line plots, and pie charts for publication analysis."
      ]
    },
    {
      "cell_type": "code",
      "execution_count": null,
      "metadata": {},
      "outputs": [],
      "source": [
        "import requests\n",
        "import pandas as pd\n",
        "import matplotlib.pyplot as plt\n",
        "import seaborn as sns\n",
        "\n",
        "sns.set(style=\"whitegrid\")\n",
        "\n",
        "def fetch_publications(pid):\n",
        "    base_url = f\"https://dblp.org/pid/{pid}.json\"\n",
        "    limit = 1000\n",
        "    offset = 0\n",
        "    all_publications = []\n",
        "\n",
        "    while True:\n",
        "        url = f\"{base_url}?offset={offset}&limit={limit}\"\n",
        "        response = requests.get(url)\n",
        "        if response.status_code != 200:\n",
        "            break\n",
        "        data = response.json()\n",
        "        hits = data.get(\"result\", {}).get(\"hits\", {}).get(\"hit\", [])\n",
        "        if not hits:\n",
        "            break\n",
        "        for hit in hits:\n",
        "            info = hit.get(\"info\", {})\n",
        "            info['type'] = hit.get(\"type\", \"unknown\")\n",
        "            all_publications.append(info)\n",
        "        offset += limit\n",
        "    return pd.DataFrame(all_publications)"
      ]
    },
    {
      "cell_type": "code",
      "execution_count": null,
      "metadata": {},
      "outputs": [],
      "source": [
        "def visualize_publications(df, author_name):\n",
        "    df = df[df['year'].notnull()]\n",
        "    df['year'] = df['year'].astype(int)\n",
        "\n",
        "    plt.figure(figsize=(10,5))\n",
        "    sns.countplot(x=\"year\", data=df, palette=\"Blues_d\")\n",
        "    plt.title(f\"Publications per Year - {author_name}\")\n",
        "    plt.xticks(rotation=45)\n",
        "    plt.tight_layout()\n",
        "    plt.show()\n",
        "\n",
        "    year_counts = df['year'].value_counts().sort_index()\n",
        "    cumulative = year_counts.cumsum()\n",
        "    plt.figure(figsize=(10,5))\n",
        "    plt.plot(cumulative.index, cumulative.values, marker='o')\n",
        "    plt.title(f\"Cumulative Publications Timeline - {author_name}\")\n",
        "    plt.xlabel(\"Year\")\n",
        "    plt.ylabel(\"Cumulative Publications\")\n",
        "    plt.grid(True)\n",
        "    plt.tight_layout()\n",
        "    plt.show()\n",
        "\n",
        "    plt.figure(figsize=(6,6))\n",
        "    df['type'].value_counts().plot.pie(autopct='%1.1f%%', startangle=140)\n",
        "    plt.title(f\"Publication Type Distribution - {author_name}\")\n",
        "    plt.ylabel(\"\")\n",
        "    plt.tight_layout()\n",
        "    plt.show()"
      ]
    },
    {
      "cell_type": "code",
      "execution_count": null,
      "metadata": {},
      "outputs": [],
      "source": [
        "authors = {\n",
        "    \"Michael Stonebraker\": \"s/MichaelStonebraker\",\n",
        "    \"Geoffrey Hinton\": \"h/GeoffreyEHinton\",\n",
        "    \"Yann LeCun\": \"l/YannLeCun\"\n",
        "}\n",
        "\n",
        "for name, pid in authors.items():\n",
        "    print(f\"\\nFetching publications for {name}...\")\n",
        "    df = fetch_publications(pid)\n",
        "    print(f\"Total publications: {len(df)}\")\n",
        "    visualize_publications(df, name)"
      ]
    }
  ],
  "metadata": {
    "kernelspec": {
      "display_name": "Python 3",
      "language": "python",
      "name": "python3"
    },
    "language_info": {
      "name": "python",
      "version": "3.9"
    }
  },
  "nbformat": 4,
  "nbformat_minor": 5
}